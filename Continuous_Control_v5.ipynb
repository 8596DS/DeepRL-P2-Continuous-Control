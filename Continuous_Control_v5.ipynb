{
 "cells": [
  {
   "cell_type": "markdown",
   "metadata": {},
   "source": [
    "# Continuous Control\n",
    "\n",
    "---\n",
    "\n",
    "In this notebook, you will learn how to use the Unity ML-Agents environment for the second project of the [Deep Reinforcement Learning Nanodegree](https://www.udacity.com/course/deep-reinforcement-learning-nanodegree--nd893) program.\n",
    "\n",
    "### 1. Start the Environment\n",
    "\n",
    "We begin by importing the necessary packages.  If the code cell below returns an error, please revisit the project instructions to double-check that you have installed [Unity ML-Agents](https://github.com/Unity-Technologies/ml-agents/blob/master/docs/Installation.md) and [NumPy](http://www.numpy.org/)."
   ]
  },
  {
   "cell_type": "code",
   "execution_count": 2,
   "metadata": {},
   "outputs": [],
   "source": [
    "# when running in Udacity workspace\n",
    "!pip -q install ./python"
   ]
  },
  {
   "cell_type": "code",
   "execution_count": 3,
   "metadata": {},
   "outputs": [],
   "source": [
    "from ddpg_agent import Agent\n",
    "from collections import deque\n",
    "import matplotlib.pyplot as plt\n",
    "import numpy as np\n",
    "import random\n",
    "import time\n",
    "import torch\n",
    "from unityagents import UnityEnvironment\n",
    "\n",
    "%matplotlib inline"
   ]
  },
  {
   "cell_type": "markdown",
   "metadata": {},
   "source": [
    "Next, we will start the environment!  **_Before running the code cell below_**, change the `file_name` parameter to match the location of the Unity environment that you downloaded.\n",
    "\n",
    "- **Mac**: `\"path/to/Reacher.app\"`\n",
    "- **Windows** (x86): `\"path/to/Reacher_Windows_x86/Reacher.exe\"`\n",
    "- **Windows** (x86_64): `\"path/to/Reacher_Windows_x86_64/Reacher.exe\"`\n",
    "- **Linux** (x86): `\"path/to/Reacher_Linux/Reacher.x86\"`\n",
    "- **Linux** (x86_64): `\"path/to/Reacher_Linux/Reacher.x86_64\"`\n",
    "- **Linux** (x86, headless): `\"path/to/Reacher_Linux_NoVis/Reacher.x86\"`\n",
    "- **Linux** (x86_64, headless): `\"path/to/Reacher_Linux_NoVis/Reacher.x86_64\"`\n",
    "\n",
    "For instance, if you are using a Mac, then you downloaded `Reacher.app`.  If this file is in the same folder as the notebook, then the line below should appear as follows:\n",
    "```\n",
    "env = UnityEnvironment(file_name=\"Reacher.app\")\n",
    "```"
   ]
  },
  {
   "cell_type": "code",
   "execution_count": 4,
   "metadata": {},
   "outputs": [
    {
     "name": "stderr",
     "output_type": "stream",
     "text": [
      "INFO:unityagents:\n",
      "'Academy' started successfully!\n",
      "Unity Academy name: Academy\n",
      "        Number of Brains: 1\n",
      "        Number of External Brains : 1\n",
      "        Lesson number : 0\n",
      "        Reset Parameters :\n",
      "\t\tgoal_size -> 5.0\n",
      "\t\tgoal_speed -> 1.0\n",
      "Unity brain name: ReacherBrain\n",
      "        Number of Visual Observations (per agent): 0\n",
      "        Vector Observation space type: continuous\n",
      "        Vector Observation space size (per agent): 33\n",
      "        Number of stacked Vector Observation: 1\n",
      "        Vector Action space type: continuous\n",
      "        Vector Action space size (per agent): 4\n",
      "        Vector Action descriptions: , , , \n"
     ]
    }
   ],
   "source": [
    "## when running locally\n",
    "# env = UnityEnvironment(file_name='Reacher20.app')\n",
    "\n",
    "## when running in Udacity workspace\n",
    "env = UnityEnvironment(file_name='/data/Reacher_Linux_NoVis/Reacher.x86_64')"
   ]
  },
  {
   "cell_type": "markdown",
   "metadata": {},
   "source": [
    "Environments contain **_brains_** which are responsible for deciding the actions of their associated agents. Here we check for the first brain available, and set it as the default brain we will be controlling from Python."
   ]
  },
  {
   "cell_type": "code",
   "execution_count": 5,
   "metadata": {},
   "outputs": [],
   "source": [
    "# get the default brain\n",
    "brain_name = env.brain_names[0]\n",
    "brain = env.brains[brain_name]"
   ]
  },
  {
   "cell_type": "markdown",
   "metadata": {},
   "source": [
    "### 2. Examine the State and Action Spaces\n",
    "\n",
    "In this environment, a double-jointed arm can move to target locations. A reward of `+0.1` is provided for each step that the agent's hand is in the goal location. Thus, the goal of your agent is to maintain its position at the target location for as many time steps as possible.\n",
    "\n",
    "The observation space consists of `33` variables corresponding to position, rotation, velocity, and angular velocities of the arm.  Each action is a vector with four numbers, corresponding to torque applicable to two joints.  Every entry in the action vector must be a number between `-1` and `1`.\n",
    "\n",
    "Run the code cell below to print some information about the environment."
   ]
  },
  {
   "cell_type": "code",
   "execution_count": 6,
   "metadata": {},
   "outputs": [
    {
     "name": "stdout",
     "output_type": "stream",
     "text": [
      "Number of agents: 20\n",
      "Size of each action: 4\n",
      "There are 20 agents. Each observes a state with length: 33\n",
      "The state for the first agent looks like: [  0.00000000e+00  -4.00000000e+00   0.00000000e+00   1.00000000e+00\n",
      "  -0.00000000e+00  -0.00000000e+00  -4.37113883e-08   0.00000000e+00\n",
      "   0.00000000e+00   0.00000000e+00   0.00000000e+00   0.00000000e+00\n",
      "   0.00000000e+00   0.00000000e+00  -1.00000000e+01   0.00000000e+00\n",
      "   1.00000000e+00  -0.00000000e+00  -0.00000000e+00  -4.37113883e-08\n",
      "   0.00000000e+00   0.00000000e+00   0.00000000e+00   0.00000000e+00\n",
      "   0.00000000e+00   0.00000000e+00   5.75471878e+00  -1.00000000e+00\n",
      "   5.55726624e+00   0.00000000e+00   1.00000000e+00   0.00000000e+00\n",
      "  -1.68164849e-01]\n"
     ]
    }
   ],
   "source": [
    "# reset the environment\n",
    "env_info = env.reset(train_mode=True)[brain_name]\n",
    "\n",
    "# number of agents\n",
    "num_agents = len(env_info.agents)\n",
    "print('Number of agents:', num_agents)\n",
    "\n",
    "# size of each action\n",
    "action_size = brain.vector_action_space_size\n",
    "print('Size of each action:', action_size)\n",
    "\n",
    "# examine the state space \n",
    "states = env_info.vector_observations\n",
    "state_size = states.shape[1]\n",
    "print('There are {} agents. Each observes a state with length: {}'.format(states.shape[0], state_size))\n",
    "print('The state for the first agent looks like:', states[0])"
   ]
  },
  {
   "cell_type": "markdown",
   "metadata": {},
   "source": [
    "### 3. Take Random Actions in the Environment\n",
    "\n",
    "In the next code cell, you will learn how to use the Python API to control the agent and receive feedback from the environment.\n",
    "\n",
    "Once this cell is executed, you will watch the agent's performance, if it selects an action at random with each time step.  A window should pop up that allows you to observe the agent, as it moves through the environment.  \n",
    "\n",
    "Of course, as part of the project, you'll have to change the code so that the agent is able to use its experience to gradually choose better actions when interacting with the environment!"
   ]
  },
  {
   "cell_type": "code",
   "execution_count": 6,
   "metadata": {},
   "outputs": [
    {
     "name": "stdout",
     "output_type": "stream",
     "text": [
      "Total score (averaged over agents) this episode: 0.06299999859184027\n"
     ]
    }
   ],
   "source": [
    "env_info = env.reset(train_mode=False)[brain_name]     # reset the environment    \n",
    "states = env_info.vector_observations                  # get the current state (for each agent)\n",
    "scores = np.zeros(num_agents)                          # initialize the score (for each agent)\n",
    "while True:\n",
    "    actions = np.random.randn(num_agents, action_size) # select an action (for each agent)\n",
    "    actions = np.clip(actions, -1, 1)                  # all actions between -1 and 1\n",
    "    env_info = env.step(actions)[brain_name]           # send all actions to tne environment\n",
    "    next_states = env_info.vector_observations         # get next state (for each agent)\n",
    "    rewards = env_info.rewards                         # get reward (for each agent)\n",
    "    dones = env_info.local_done                        # see if episode finished\n",
    "    scores += env_info.rewards                         # update the score (for each agent)\n",
    "    states = next_states                               # roll over states to next time step\n",
    "    if np.any(dones):                                  # exit loop if episode finished\n",
    "        break\n",
    "print('Total score (averaged over agents) this episode: {}'.format(np.mean(scores)))"
   ]
  },
  {
   "cell_type": "markdown",
   "metadata": {},
   "source": [
    "### 4. It's Your Turn!\n",
    "\n",
    "Now it's your turn to train your own agent to solve the environment!  When training the environment, set `train_mode=True`, so that the line for resetting the environment looks like the following:\n",
    "```python\n",
    "env_info = env.reset(train_mode=True)[brain_name]\n",
    "```"
   ]
  },
  {
   "cell_type": "code",
   "execution_count": 7,
   "metadata": {},
   "outputs": [],
   "source": [
    "# DDPG function\n",
    "\n",
    "def ddpg(n_episodes=500, max_t=1000, solved_score=30.0, consec_episodes=100, print_every=1, train_mode=True,\n",
    "         actor_path='actor_ckpt.pth', critic_path='critic_ckpt.pth'):\n",
    "    \"\"\"Deep Deterministic Policy Gradient (DDPG)\n",
    "    \n",
    "    Params\n",
    "    ======\n",
    "        n_episodes (int)      : maximum number of training episodes\n",
    "        max_t (int)           : maximum number of timesteps per episode\n",
    "        train_mode (bool)     : if 'True' set environment to training mode\n",
    "        solved_score (float)  : min avg score over consecutive episodes\n",
    "        consec_episodes (int) : number of consecutive episodes used to calculate score\n",
    "        print_every (int)     : interval to display results\n",
    "        actor_path (str)      : directory to store actor network weights\n",
    "        critic_path (str)     : directory to store critic network weights\n",
    "\n",
    "    \"\"\"\n",
    "    mean_scores = []                               # list of mean scores from each episode\n",
    "    min_scores = []                                # list of lowest scores from each episode\n",
    "    max_scores = []                                # list of highest scores from each episode\n",
    "    best_score = -np.inf\n",
    "    scores_window = deque(maxlen=consec_episodes)  # mean scores from most recent episodes\n",
    "    moving_avgs = []                               # list of moving averages\n",
    "    \n",
    "    for i_episode in range(1, n_episodes+1):\n",
    "        env_info = env.reset(train_mode=train_mode)[brain_name] # reset environment\n",
    "        states = env_info.vector_observations                   # get current state for each agent      \n",
    "        scores = np.zeros(num_agents)                           # initialize score for each agent\n",
    "        agent.reset()\n",
    "        start_time = time.time()\n",
    "        for t in range(max_t):\n",
    "            actions = agent.act(states, add_noise=True)         # select an action\n",
    "            env_info = env.step(actions)[brain_name]            # send actions to environment\n",
    "            next_states = env_info.vector_observations          # get next state\n",
    "            rewards = env_info.rewards                          # get reward\n",
    "            dones = env_info.local_done                         # see if episode has finished\n",
    "            # save experience to replay buffer, perform learning step at defined interval\n",
    "            for state, action, reward, next_state, done in zip(states, actions, rewards, next_states, dones):\n",
    "                agent.step(state, action, reward, next_state, done, t)             \n",
    "            states = next_states\n",
    "            scores += rewards        \n",
    "            if np.any(dones):                                   # exit loop when episode ends\n",
    "                break\n",
    "\n",
    "        duration = time.time() - start_time\n",
    "        min_scores.append(np.min(scores))             # save lowest score for a single agent\n",
    "        max_scores.append(np.max(scores))             # save highest score for a single agent        \n",
    "        mean_scores.append(np.mean(scores))           # save mean score for the episode\n",
    "        scores_window.append(mean_scores[-1])         # save mean score to window\n",
    "        moving_avgs.append(np.mean(scores_window))    # save moving average\n",
    "                \n",
    "        if i_episode % print_every == 0:\n",
    "            print('\\rEpisode {} ({} sec)  -- \\tMin: {:.1f}\\tMax: {:.1f}\\tMean: {:.1f}\\tMov. Avg: {:.1f}'.format(\\\n",
    "                  i_episode, round(duration), min_scores[-1], max_scores[-1], mean_scores[-1], moving_avgs[-1]))\n",
    "        \n",
    "        if train_mode and mean_scores[-1] > best_score:\n",
    "            torch.save(agent.actor_local.state_dict(), actor_path)\n",
    "            torch.save(agent.critic_local.state_dict(), critic_path)\n",
    "                  \n",
    "        if moving_avgs[-1] >= solved_score and i_episode >= consec_episodes:\n",
    "            print('\\nEnvironment SOLVED in {} episodes!\\tMoving Average ={:.1f} over last {} episodes'.format(\\\n",
    "                                    i_episode-consec_episodes, moving_avgs[-1], consec_episodes))            \n",
    "            if train_mode:\n",
    "                torch.save(agent.actor_local.state_dict(), actor_path)\n",
    "                torch.save(agent.critic_local.state_dict(), critic_path)  \n",
    "            break\n",
    "            \n",
    "    return mean_scores, moving_avgs"
   ]
  },
  {
   "cell_type": "code",
   "execution_count": null,
   "metadata": {},
   "outputs": [
    {
     "name": "stdout",
     "output_type": "stream",
     "text": [
      "Episode 1 (107 sec)  -- \tMin: 0.0\tMax: 2.1\tMean: 0.6\tMov. Avg: 0.6\n",
      "Episode 2 (111 sec)  -- \tMin: 0.0\tMax: 2.3\tMean: 0.9\tMov. Avg: 0.8\n",
      "Episode 3 (112 sec)  -- \tMin: 0.7\tMax: 3.6\tMean: 2.0\tMov. Avg: 1.2\n",
      "Episode 4 (114 sec)  -- \tMin: 0.7\tMax: 4.8\tMean: 2.5\tMov. Avg: 1.5\n",
      "Episode 5 (114 sec)  -- \tMin: 1.1\tMax: 6.3\tMean: 2.9\tMov. Avg: 1.8\n",
      "Episode 6 (114 sec)  -- \tMin: 2.5\tMax: 7.3\tMean: 4.4\tMov. Avg: 2.2\n",
      "Episode 7 (114 sec)  -- \tMin: 1.3\tMax: 6.5\tMean: 3.5\tMov. Avg: 2.4\n",
      "Episode 8 (116 sec)  -- \tMin: 2.6\tMax: 11.5\tMean: 4.9\tMov. Avg: 2.7\n",
      "Episode 9 (117 sec)  -- \tMin: 3.0\tMax: 9.0\tMean: 5.8\tMov. Avg: 3.0\n",
      "Episode 10 (118 sec)  -- \tMin: 2.9\tMax: 9.8\tMean: 6.9\tMov. Avg: 3.4\n",
      "Episode 11 (120 sec)  -- \tMin: 4.2\tMax: 18.1\tMean: 8.1\tMov. Avg: 3.9\n",
      "Episode 12 (122 sec)  -- \tMin: 4.3\tMax: 12.9\tMean: 8.0\tMov. Avg: 4.2\n",
      "Episode 13 (123 sec)  -- \tMin: 3.2\tMax: 11.1\tMean: 7.2\tMov. Avg: 4.4\n",
      "Episode 14 (125 sec)  -- \tMin: 2.7\tMax: 18.8\tMean: 9.0\tMov. Avg: 4.8\n",
      "Episode 15 (128 sec)  -- \tMin: 3.1\tMax: 13.4\tMean: 8.3\tMov. Avg: 5.0\n",
      "Episode 16 (132 sec)  -- \tMin: 2.5\tMax: 16.2\tMean: 8.6\tMov. Avg: 5.2\n",
      "Episode 17 (135 sec)  -- \tMin: 2.2\tMax: 18.2\tMean: 8.5\tMov. Avg: 5.4\n",
      "Episode 18 (136 sec)  -- \tMin: 2.9\tMax: 12.8\tMean: 7.8\tMov. Avg: 5.5\n",
      "Episode 19 (138 sec)  -- \tMin: 4.6\tMax: 13.2\tMean: 9.9\tMov. Avg: 5.8\n",
      "Episode 20 (138 sec)  -- \tMin: 3.7\tMax: 16.0\tMean: 9.8\tMov. Avg: 6.0\n",
      "Episode 21 (143 sec)  -- \tMin: 7.4\tMax: 26.0\tMean: 12.8\tMov. Avg: 6.3\n",
      "Episode 22 (144 sec)  -- \tMin: 6.1\tMax: 19.7\tMean: 12.0\tMov. Avg: 6.6\n",
      "Episode 23 (148 sec)  -- \tMin: 6.0\tMax: 25.7\tMean: 12.4\tMov. Avg: 6.8\n",
      "Episode 24 (150 sec)  -- \tMin: 8.6\tMax: 19.2\tMean: 13.2\tMov. Avg: 7.1\n",
      "Episode 25 (152 sec)  -- \tMin: 4.9\tMax: 19.6\tMean: 14.3\tMov. Avg: 7.4\n",
      "Episode 26 (154 sec)  -- \tMin: 5.5\tMax: 18.6\tMean: 13.0\tMov. Avg: 7.6\n",
      "Episode 27 (158 sec)  -- \tMin: 8.7\tMax: 24.5\tMean: 14.6\tMov. Avg: 7.8\n",
      "Episode 28 (161 sec)  -- \tMin: 10.5\tMax: 20.4\tMean: 15.9\tMov. Avg: 8.1\n",
      "Episode 29 (164 sec)  -- \tMin: 11.5\tMax: 18.9\tMean: 15.7\tMov. Avg: 8.4\n",
      "Episode 30 (166 sec)  -- \tMin: 9.2\tMax: 26.8\tMean: 15.2\tMov. Avg: 8.6\n",
      "Episode 31 (168 sec)  -- \tMin: 8.4\tMax: 23.1\tMean: 14.8\tMov. Avg: 8.8\n",
      "Episode 32 (171 sec)  -- \tMin: 9.7\tMax: 27.8\tMean: 15.5\tMov. Avg: 9.0\n",
      "Episode 33 (174 sec)  -- \tMin: 10.5\tMax: 24.1\tMean: 18.5\tMov. Avg: 9.3\n",
      "Episode 34 (176 sec)  -- \tMin: 13.2\tMax: 25.6\tMean: 18.4\tMov. Avg: 9.6\n",
      "Episode 35 (177 sec)  -- \tMin: 13.5\tMax: 22.8\tMean: 18.0\tMov. Avg: 9.8\n",
      "Episode 36 (180 sec)  -- \tMin: 9.2\tMax: 22.9\tMean: 18.2\tMov. Avg: 10.1\n",
      "Episode 37 (185 sec)  -- \tMin: 8.9\tMax: 27.3\tMean: 19.5\tMov. Avg: 10.3\n",
      "Episode 38 (186 sec)  -- \tMin: 15.2\tMax: 25.2\tMean: 20.2\tMov. Avg: 10.6\n",
      "Episode 39 (187 sec)  -- \tMin: 15.3\tMax: 25.1\tMean: 21.0\tMov. Avg: 10.8\n",
      "Episode 40 (191 sec)  -- \tMin: 16.4\tMax: 26.7\tMean: 21.2\tMov. Avg: 11.1\n",
      "Episode 41 (195 sec)  -- \tMin: 16.6\tMax: 36.4\tMean: 22.1\tMov. Avg: 11.4\n",
      "Episode 42 (195 sec)  -- \tMin: 15.3\tMax: 30.9\tMean: 24.1\tMov. Avg: 11.7\n",
      "Episode 43 (198 sec)  -- \tMin: 17.9\tMax: 33.1\tMean: 26.4\tMov. Avg: 12.0\n",
      "Episode 44 (202 sec)  -- \tMin: 17.2\tMax: 32.5\tMean: 24.9\tMov. Avg: 12.3\n",
      "Episode 45 (205 sec)  -- \tMin: 21.8\tMax: 34.9\tMean: 27.2\tMov. Avg: 12.6\n",
      "Episode 46 (205 sec)  -- \tMin: 16.0\tMax: 35.7\tMean: 28.5\tMov. Avg: 13.0\n",
      "Episode 47 (209 sec)  -- \tMin: 22.9\tMax: 37.3\tMean: 28.9\tMov. Avg: 13.3\n",
      "Episode 48 (213 sec)  -- \tMin: 20.6\tMax: 35.8\tMean: 30.0\tMov. Avg: 13.7\n",
      "Episode 49 (212 sec)  -- \tMin: 25.2\tMax: 35.4\tMean: 31.0\tMov. Avg: 14.0\n",
      "Episode 50 (216 sec)  -- \tMin: 25.2\tMax: 37.2\tMean: 31.6\tMov. Avg: 14.4\n",
      "Episode 51 (220 sec)  -- \tMin: 27.3\tMax: 38.4\tMean: 32.6\tMov. Avg: 14.7\n",
      "Episode 52 (218 sec)  -- \tMin: 29.0\tMax: 36.3\tMean: 32.9\tMov. Avg: 15.1\n",
      "Episode 53 (217 sec)  -- \tMin: 21.6\tMax: 39.1\tMean: 33.1\tMov. Avg: 15.4\n",
      "Episode 54 (219 sec)  -- \tMin: 28.1\tMax: 38.8\tMean: 34.4\tMov. Avg: 15.8\n",
      "Episode 55 (218 sec)  -- \tMin: 29.4\tMax: 38.6\tMean: 34.1\tMov. Avg: 16.1\n",
      "Episode 56 (217 sec)  -- \tMin: 28.7\tMax: 39.6\tMean: 33.8\tMov. Avg: 16.4\n",
      "Episode 57 (219 sec)  -- \tMin: 28.6\tMax: 38.6\tMean: 34.2\tMov. Avg: 16.7\n",
      "Episode 58 (221 sec)  -- \tMin: 29.2\tMax: 39.3\tMean: 34.9\tMov. Avg: 17.0\n",
      "Episode 59 (216 sec)  -- \tMin: 32.9\tMax: 39.4\tMean: 36.8\tMov. Avg: 17.4\n",
      "Episode 60 (218 sec)  -- \tMin: 31.9\tMax: 39.2\tMean: 36.4\tMov. Avg: 17.7\n",
      "Episode 61 (220 sec)  -- \tMin: 29.3\tMax: 39.6\tMean: 36.7\tMov. Avg: 18.0\n",
      "Episode 62 (218 sec)  -- \tMin: 33.1\tMax: 39.0\tMean: 36.3\tMov. Avg: 18.3\n",
      "Episode 63 (217 sec)  -- \tMin: 25.7\tMax: 39.6\tMean: 36.7\tMov. Avg: 18.6\n",
      "Episode 64 (219 sec)  -- \tMin: 34.3\tMax: 39.1\tMean: 37.3\tMov. Avg: 18.9\n",
      "Episode 65 (219 sec)  -- \tMin: 35.0\tMax: 39.5\tMean: 38.3\tMov. Avg: 19.2\n",
      "Episode 66 (216 sec)  -- \tMin: 36.4\tMax: 39.5\tMean: 38.3\tMov. Avg: 19.5\n",
      "Episode 67 (219 sec)  -- \tMin: 33.5\tMax: 39.6\tMean: 39.0\tMov. Avg: 19.8\n",
      "Episode 68 (220 sec)  -- \tMin: 34.8\tMax: 39.6\tMean: 38.7\tMov. Avg: 20.0\n",
      "Episode 69 (217 sec)  -- \tMin: 37.4\tMax: 39.5\tMean: 38.8\tMov. Avg: 20.3\n",
      "Episode 70 (219 sec)  -- \tMin: 32.9\tMax: 39.6\tMean: 38.2\tMov. Avg: 20.6\n",
      "Episode 71 (221 sec)  -- \tMin: 36.3\tMax: 39.6\tMean: 38.6\tMov. Avg: 20.8\n",
      "Episode 72 (219 sec)  -- \tMin: 37.5\tMax: 39.6\tMean: 39.1\tMov. Avg: 21.1\n",
      "Episode 73 (218 sec)  -- \tMin: 38.0\tMax: 39.5\tMean: 38.9\tMov. Avg: 21.3\n",
      "Episode 74 (221 sec)  -- \tMin: 35.9\tMax: 39.4\tMean: 38.4\tMov. Avg: 21.6\n",
      "Episode 75 (217 sec)  -- \tMin: 36.8\tMax: 39.6\tMean: 38.5\tMov. Avg: 21.8\n",
      "Episode 76 (218 sec)  -- \tMin: 37.1\tMax: 39.6\tMean: 38.4\tMov. Avg: 22.0\n",
      "Episode 77 (220 sec)  -- \tMin: 37.8\tMax: 39.6\tMean: 39.0\tMov. Avg: 22.2\n",
      "Episode 78 (219 sec)  -- \tMin: 37.9\tMax: 39.6\tMean: 39.1\tMov. Avg: 22.4\n",
      "Episode 79 (218 sec)  -- \tMin: 38.5\tMax: 39.6\tMean: 39.3\tMov. Avg: 22.7\n",
      "Episode 80 (219 sec)  -- \tMin: 37.4\tMax: 39.6\tMean: 39.3\tMov. Avg: 22.9\n",
      "Episode 81 (221 sec)  -- \tMin: 38.1\tMax: 39.7\tMean: 39.1\tMov. Avg: 23.1\n",
      "Episode 82 (217 sec)  -- \tMin: 37.6\tMax: 39.6\tMean: 38.9\tMov. Avg: 23.3\n",
      "Episode 83 (218 sec)  -- \tMin: 38.2\tMax: 39.6\tMean: 39.1\tMov. Avg: 23.4\n"
     ]
    }
   ],
   "source": [
    "# run the training loop\n",
    "agent = Agent(state_size=state_size, action_size=action_size, random_seed=1)\n",
    "scores, avgs = ddpg()\n",
    "\n",
    "# plot the scores\n",
    "fig = plt.figure()\n",
    "ax = fig.add_subplot(111)\n",
    "plt.plot(np.arange(len(scores)), scores, label='DDPG')\n",
    "plt.plot(np.arange(len(scores)), avgs, c='r', label='average')\n",
    "plt.ylabel('Score')\n",
    "plt.xlabel('Episode #')\n",
    "plt.legend(loc='upper left');\n",
    "plt.show()"
   ]
  },
  {
   "cell_type": "markdown",
   "metadata": {},
   "source": []
  },
  {
   "cell_type": "code",
   "execution_count": null,
   "metadata": {},
   "outputs": [
    {
     "name": "stdout",
     "output_type": "stream",
     "text": [
      "Episode 1 (105 sec)  -- \tMin: 0.0\tMax: 1.9\tMean: 0.9\tMov. Avg: 0.9\n",
      "Episode 2 (110 sec)  -- \tMin: 0.1\tMax: 4.4\tMean: 1.9\tMov. Avg: 1.4\n",
      "Episode 3 (109 sec)  -- \tMin: 1.1\tMax: 3.8\tMean: 2.4\tMov. Avg: 1.7\n",
      "Episode 4 (109 sec)  -- \tMin: 2.2\tMax: 7.0\tMean: 3.6\tMov. Avg: 2.2\n",
      "Episode 5 (111 sec)  -- \tMin: 1.6\tMax: 6.0\tMean: 4.3\tMov. Avg: 2.6\n",
      "Episode 6 (111 sec)  -- \tMin: 2.2\tMax: 7.1\tMean: 4.4\tMov. Avg: 2.9\n",
      "Episode 7 (112 sec)  -- \tMin: 2.3\tMax: 9.8\tMean: 4.8\tMov. Avg: 3.2\n",
      "Episode 8 (113 sec)  -- \tMin: 2.3\tMax: 8.2\tMean: 5.0\tMov. Avg: 3.4\n",
      "Episode 9 (114 sec)  -- \tMin: 1.6\tMax: 9.5\tMean: 5.6\tMov. Avg: 3.6\n",
      "Episode 10 (115 sec)  -- \tMin: 3.2\tMax: 14.2\tMean: 7.0\tMov. Avg: 4.0\n",
      "Episode 11 (116 sec)  -- \tMin: 2.9\tMax: 10.5\tMean: 6.8\tMov. Avg: 4.2\n",
      "Episode 12 (118 sec)  -- \tMin: 2.3\tMax: 10.7\tMean: 6.7\tMov. Avg: 4.4\n",
      "Episode 13 (119 sec)  -- \tMin: 3.2\tMax: 16.5\tMean: 8.6\tMov. Avg: 4.8\n",
      "Episode 14 (121 sec)  -- \tMin: 3.5\tMax: 12.6\tMean: 8.3\tMov. Avg: 5.0\n",
      "Episode 15 (123 sec)  -- \tMin: 3.2\tMax: 15.6\tMean: 9.5\tMov. Avg: 5.3\n",
      "Episode 16 (124 sec)  -- \tMin: 3.2\tMax: 16.1\tMean: 10.8\tMov. Avg: 5.6\n",
      "Episode 17 (127 sec)  -- \tMin: 4.8\tMax: 17.4\tMean: 12.0\tMov. Avg: 6.0\n",
      "Episode 18 (130 sec)  -- \tMin: 5.0\tMax: 17.2\tMean: 12.2\tMov. Avg: 6.4\n",
      "Episode 19 (136 sec)  -- \tMin: 5.8\tMax: 20.5\tMean: 12.9\tMov. Avg: 6.7\n",
      "Episode 20 (137 sec)  -- \tMin: 4.4\tMax: 23.6\tMean: 16.3\tMov. Avg: 7.2\n",
      "Episode 21 (139 sec)  -- \tMin: 9.6\tMax: 23.6\tMean: 16.1\tMov. Avg: 7.6\n",
      "Episode 22 (141 sec)  -- \tMin: 9.6\tMax: 27.5\tMean: 17.8\tMov. Avg: 8.1\n",
      "Episode 23 (143 sec)  -- \tMin: 9.0\tMax: 24.7\tMean: 16.7\tMov. Avg: 8.4\n",
      "Episode 24 (146 sec)  -- \tMin: 8.5\tMax: 24.8\tMean: 16.1\tMov. Avg: 8.8\n",
      "Episode 25 (148 sec)  -- \tMin: 10.0\tMax: 26.6\tMean: 17.6\tMov. Avg: 9.1\n",
      "Episode 26 (151 sec)  -- \tMin: 11.4\tMax: 26.6\tMean: 18.2\tMov. Avg: 9.5\n",
      "Episode 27 (155 sec)  -- \tMin: 10.1\tMax: 31.6\tMean: 22.6\tMov. Avg: 10.0\n",
      "Episode 28 (158 sec)  -- \tMin: 9.7\tMax: 31.1\tMean: 21.7\tMov. Avg: 10.4\n",
      "Episode 29 (159 sec)  -- \tMin: 8.4\tMax: 32.2\tMean: 21.0\tMov. Avg: 10.7\n",
      "Episode 30 (164 sec)  -- \tMin: 11.5\tMax: 31.9\tMean: 22.1\tMov. Avg: 11.1\n",
      "Episode 31 (166 sec)  -- \tMin: 16.5\tMax: 34.7\tMean: 27.7\tMov. Avg: 11.7\n",
      "Episode 32 (168 sec)  -- \tMin: 12.7\tMax: 37.0\tMean: 28.1\tMov. Avg: 12.2\n",
      "Episode 33 (170 sec)  -- \tMin: 25.0\tMax: 32.1\tMean: 28.9\tMov. Avg: 12.7\n",
      "Episode 34 (172 sec)  -- \tMin: 24.7\tMax: 33.2\tMean: 28.7\tMov. Avg: 13.1\n",
      "Episode 35 (172 sec)  -- \tMin: 25.9\tMax: 35.3\tMean: 29.9\tMov. Avg: 13.6\n",
      "Episode 36 (171 sec)  -- \tMin: 23.5\tMax: 34.3\tMean: 29.5\tMov. Avg: 14.1\n",
      "Episode 37 (173 sec)  -- \tMin: 27.3\tMax: 35.7\tMean: 30.0\tMov. Avg: 14.5\n",
      "Episode 38 (176 sec)  -- \tMin: 28.8\tMax: 36.1\tMean: 32.9\tMov. Avg: 15.0\n"
     ]
    }
   ],
   "source": [
    "# run the training loop\n",
    "agent = Agent(state_size=state_size, action_size=action_size, random_seed=1)\n",
    "scores, avgs = ddpg()\n",
    "\n",
    "# plot the scores\n",
    "fig = plt.figure()\n",
    "ax = fig.add_subplot(111)\n",
    "plt.plot(np.arange(len(scores)), scores, label='DDPG')\n",
    "plt.plot(np.arange(len(scores)), avgs, c='r', label='average')\n",
    "plt.ylabel('Score')\n",
    "plt.xlabel('Episode #')\n",
    "plt.legend(loc='upper left');\n",
    "plt.show()"
   ]
  },
  {
   "cell_type": "code",
   "execution_count": null,
   "metadata": {},
   "outputs": [],
   "source": []
  },
  {
   "cell_type": "code",
   "execution_count": null,
   "metadata": {},
   "outputs": [],
   "source": []
  },
  {
   "cell_type": "code",
   "execution_count": 7,
   "metadata": {},
   "outputs": [
    {
     "name": "stdout",
     "output_type": "stream",
     "text": [
      "Episode 1 \t\t\tduration: 105 seconds                   \n",
      "\tMin: 0.0\tMax: 2.3\tMean: 0.9\tMoving Avg: 0.9\n",
      "Episode 2 \t\t\tduration: 108 seconds                   \n",
      "\tMin: 0.3\tMax: 2.6\tMean: 1.3\tMoving Avg: 1.1\n",
      "Episode 3 \t\t\tduration: 110 seconds                   \n",
      "\tMin: 0.7\tMax: 3.8\tMean: 1.9\tMoving Avg: 1.3\n",
      "Episode 4 \t\t\tduration: 110 seconds                   \n",
      "\tMin: 0.6\tMax: 4.6\tMean: 2.3\tMoving Avg: 1.6\n",
      "Episode 5 \t\t\tduration: 111 seconds                   \n",
      "\tMin: 0.4\tMax: 4.1\tMean: 1.8\tMoving Avg: 1.6\n",
      "Episode 6 \t\t\tduration: 112 seconds                   \n",
      "\tMin: 0.4\tMax: 4.1\tMean: 2.0\tMoving Avg: 1.8\n",
      "Episode 7 \t\t\tduration: 113 seconds                   \n",
      "\tMin: 0.8\tMax: 5.0\tMean: 2.3\tMoving Avg: 2.1\n",
      "Episode 8 \t\t\tduration: 114 seconds                   \n",
      "\tMin: 1.3\tMax: 4.8\tMean: 2.8\tMoving Avg: 2.2\n",
      "Episode 9 \t\t\tduration: 115 seconds                   \n",
      "\tMin: 0.7\tMax: 3.1\tMean: 2.0\tMoving Avg: 2.2\n",
      "Episode 10 \t\t\tduration: 116 seconds                   \n",
      "\tMin: 0.8\tMax: 5.0\tMean: 2.5\tMoving Avg: 2.3\n",
      "Episode 11 \t\t\tduration: 118 seconds                   \n",
      "\tMin: 1.3\tMax: 5.4\tMean: 3.0\tMoving Avg: 2.5\n",
      "Episode 12 \t\t\tduration: 119 seconds                   \n",
      "\tMin: 1.2\tMax: 4.9\tMean: 3.0\tMoving Avg: 2.6\n",
      "Episode 13 \t\t\tduration: 121 seconds                   \n",
      "\tMin: 0.5\tMax: 5.2\tMean: 2.7\tMoving Avg: 2.6\n",
      "Episode 14 \t\t\tduration: 122 seconds                   \n",
      "\tMin: 1.5\tMax: 6.1\tMean: 3.4\tMoving Avg: 2.9\n",
      "Episode 15 \t\t\tduration: 125 seconds                   \n",
      "\tMin: 1.2\tMax: 5.3\tMean: 3.4\tMoving Avg: 3.1\n",
      "Episode 16 \t\t\tduration: 127 seconds                   \n",
      "\tMin: 1.9\tMax: 6.0\tMean: 4.0\tMoving Avg: 3.3\n",
      "Episode 17 \t\t\tduration: 129 seconds                   \n",
      "\tMin: 2.5\tMax: 6.7\tMean: 4.0\tMoving Avg: 3.5\n",
      "Episode 18 \t\t\tduration: 131 seconds                   \n",
      "\tMin: 1.4\tMax: 5.8\tMean: 3.7\tMoving Avg: 3.7\n",
      "Episode 19 \t\t\tduration: 133 seconds                   \n",
      "\tMin: 1.4\tMax: 6.4\tMean: 4.1\tMoving Avg: 3.9\n",
      "Episode 20 \t\t\tduration: 136 seconds                   \n",
      "\tMin: 2.2\tMax: 9.3\tMean: 5.1\tMoving Avg: 4.2\n",
      "Episode 21 \t\t\tduration: 138 seconds                   \n",
      "\tMin: 2.3\tMax: 14.1\tMean: 6.4\tMoving Avg: 4.7\n",
      "Episode 22 \t\t\tduration: 140 seconds                   \n",
      "\tMin: 3.7\tMax: 8.4\tMean: 5.6\tMoving Avg: 5.0\n",
      "Episode 23 \t\t\tduration: 139 seconds                   \n",
      "\tMin: 3.1\tMax: 12.7\tMean: 5.6\tMoving Avg: 5.4\n",
      "Episode 24 \t\t\tduration: 138 seconds                   \n",
      "\tMin: 2.5\tMax: 7.3\tMean: 5.4\tMoving Avg: 5.6\n",
      "Episode 25 \t\t\tduration: 141 seconds                   \n",
      "\tMin: 2.4\tMax: 6.3\tMean: 4.7\tMoving Avg: 5.5\n",
      "Episode 26 \t\t\tduration: 143 seconds                   \n",
      "\tMin: 1.1\tMax: 7.2\tMean: 5.0\tMoving Avg: 5.2\n",
      "Episode 27 \t\t\tduration: 146 seconds                   \n",
      "\tMin: 2.2\tMax: 13.3\tMean: 5.3\tMoving Avg: 5.2\n",
      "Episode 28 \t\t\tduration: 151 seconds                   \n",
      "\tMin: 3.7\tMax: 7.5\tMean: 5.7\tMoving Avg: 5.2\n"
     ]
    },
    {
     "ename": "KeyboardInterrupt",
     "evalue": "",
     "output_type": "error",
     "traceback": [
      "\u001b[0;31m---------------------------------------------------------------------------\u001b[0m",
      "\u001b[0;31mKeyboardInterrupt\u001b[0m                         Traceback (most recent call last)",
      "\u001b[0;32m<ipython-input-7-0d9d7bfdb860>\u001b[0m in \u001b[0;36m<module>\u001b[0;34m()\u001b[0m\n\u001b[1;32m      1\u001b[0m \u001b[0;31m# run the training loop\u001b[0m\u001b[0;34m\u001b[0m\u001b[0;34m\u001b[0m\u001b[0m\n\u001b[1;32m      2\u001b[0m \u001b[0magent\u001b[0m \u001b[0;34m=\u001b[0m \u001b[0mAgent\u001b[0m\u001b[0;34m(\u001b[0m\u001b[0mstate_size\u001b[0m\u001b[0;34m=\u001b[0m\u001b[0mstate_size\u001b[0m\u001b[0;34m,\u001b[0m \u001b[0maction_size\u001b[0m\u001b[0;34m=\u001b[0m\u001b[0maction_size\u001b[0m\u001b[0;34m,\u001b[0m \u001b[0mrandom_seed\u001b[0m\u001b[0;34m=\u001b[0m\u001b[0;36m1\u001b[0m\u001b[0;34m)\u001b[0m\u001b[0;34m\u001b[0m\u001b[0m\n\u001b[0;32m----> 3\u001b[0;31m \u001b[0mscores\u001b[0m\u001b[0;34m,\u001b[0m \u001b[0mavgs\u001b[0m \u001b[0;34m=\u001b[0m \u001b[0mddpg\u001b[0m\u001b[0;34m(\u001b[0m\u001b[0;34m)\u001b[0m\u001b[0;34m\u001b[0m\u001b[0m\n\u001b[0m\u001b[1;32m      4\u001b[0m \u001b[0;34m\u001b[0m\u001b[0m\n\u001b[1;32m      5\u001b[0m \u001b[0;31m# plot the scores\u001b[0m\u001b[0;34m\u001b[0m\u001b[0;34m\u001b[0m\u001b[0m\n",
      "\u001b[0;32m<ipython-input-6-2ecc30b0c631>\u001b[0m in \u001b[0;36mddpg\u001b[0;34m(n_episodes, max_t, train_mode, actor_path, critic_path)\u001b[0m\n\u001b[1;32m     36\u001b[0m             \u001b[0;31m# save experience to replay buffer, perform learning step at defined interval\u001b[0m\u001b[0;34m\u001b[0m\u001b[0;34m\u001b[0m\u001b[0m\n\u001b[1;32m     37\u001b[0m             \u001b[0;32mfor\u001b[0m \u001b[0mstate\u001b[0m\u001b[0;34m,\u001b[0m \u001b[0maction\u001b[0m\u001b[0;34m,\u001b[0m \u001b[0mreward\u001b[0m\u001b[0;34m,\u001b[0m \u001b[0mnext_state\u001b[0m\u001b[0;34m,\u001b[0m \u001b[0mdone\u001b[0m \u001b[0;32min\u001b[0m \u001b[0mzip\u001b[0m\u001b[0;34m(\u001b[0m\u001b[0mstates\u001b[0m\u001b[0;34m,\u001b[0m \u001b[0mactions\u001b[0m\u001b[0;34m,\u001b[0m \u001b[0mrewards\u001b[0m\u001b[0;34m,\u001b[0m \u001b[0mnext_states\u001b[0m\u001b[0;34m,\u001b[0m \u001b[0mdones\u001b[0m\u001b[0;34m)\u001b[0m\u001b[0;34m:\u001b[0m\u001b[0;34m\u001b[0m\u001b[0m\n\u001b[0;32m---> 38\u001b[0;31m                 \u001b[0magent\u001b[0m\u001b[0;34m.\u001b[0m\u001b[0mstep\u001b[0m\u001b[0;34m(\u001b[0m\u001b[0mstate\u001b[0m\u001b[0;34m,\u001b[0m \u001b[0maction\u001b[0m\u001b[0;34m,\u001b[0m \u001b[0mreward\u001b[0m\u001b[0;34m,\u001b[0m \u001b[0mnext_state\u001b[0m\u001b[0;34m,\u001b[0m \u001b[0mdone\u001b[0m\u001b[0;34m,\u001b[0m \u001b[0mt\u001b[0m\u001b[0;34m)\u001b[0m\u001b[0;34m\u001b[0m\u001b[0m\n\u001b[0m\u001b[1;32m     39\u001b[0m             \u001b[0mstates\u001b[0m \u001b[0;34m=\u001b[0m \u001b[0mnext_states\u001b[0m\u001b[0;34m\u001b[0m\u001b[0m\n\u001b[1;32m     40\u001b[0m             \u001b[0mscores\u001b[0m \u001b[0;34m+=\u001b[0m \u001b[0mrewards\u001b[0m\u001b[0;34m\u001b[0m\u001b[0m\n",
      "\u001b[0;32m/home/workspace/ddpg_agent.py\u001b[0m in \u001b[0;36mstep\u001b[0;34m(self, state, action, reward, next_state, done, timestep)\u001b[0m\n\u001b[1;32m     63\u001b[0m             \u001b[0;32mfor\u001b[0m \u001b[0m_\u001b[0m \u001b[0;32min\u001b[0m \u001b[0mrange\u001b[0m\u001b[0;34m(\u001b[0m\u001b[0mLEARN_NUM\u001b[0m\u001b[0;34m)\u001b[0m\u001b[0;34m:\u001b[0m\u001b[0;34m\u001b[0m\u001b[0m\n\u001b[1;32m     64\u001b[0m                 \u001b[0mexperiences\u001b[0m \u001b[0;34m=\u001b[0m \u001b[0mself\u001b[0m\u001b[0;34m.\u001b[0m\u001b[0mmemory\u001b[0m\u001b[0;34m.\u001b[0m\u001b[0msample\u001b[0m\u001b[0;34m(\u001b[0m\u001b[0;34m)\u001b[0m\u001b[0;34m\u001b[0m\u001b[0m\n\u001b[0;32m---> 65\u001b[0;31m                 \u001b[0mself\u001b[0m\u001b[0;34m.\u001b[0m\u001b[0mlearn\u001b[0m\u001b[0;34m(\u001b[0m\u001b[0mexperiences\u001b[0m\u001b[0;34m,\u001b[0m \u001b[0mGAMMA\u001b[0m\u001b[0;34m)\u001b[0m\u001b[0;34m\u001b[0m\u001b[0m\n\u001b[0m\u001b[1;32m     66\u001b[0m \u001b[0;34m\u001b[0m\u001b[0m\n\u001b[1;32m     67\u001b[0m     \u001b[0;32mdef\u001b[0m \u001b[0mact\u001b[0m\u001b[0;34m(\u001b[0m\u001b[0mself\u001b[0m\u001b[0;34m,\u001b[0m \u001b[0mstate\u001b[0m\u001b[0;34m,\u001b[0m \u001b[0madd_noise\u001b[0m\u001b[0;34m=\u001b[0m\u001b[0;32mTrue\u001b[0m\u001b[0;34m)\u001b[0m\u001b[0;34m:\u001b[0m\u001b[0;34m\u001b[0m\u001b[0m\n",
      "\u001b[0;32m/home/workspace/ddpg_agent.py\u001b[0m in \u001b[0;36mlearn\u001b[0;34m(self, experiences, gamma)\u001b[0m\n\u001b[1;32m    110\u001b[0m         \u001b[0;31m# ---------------------------- update actor ---------------------------- #\u001b[0m\u001b[0;34m\u001b[0m\u001b[0;34m\u001b[0m\u001b[0m\n\u001b[1;32m    111\u001b[0m         \u001b[0;31m# Compute actor loss\u001b[0m\u001b[0;34m\u001b[0m\u001b[0;34m\u001b[0m\u001b[0m\n\u001b[0;32m--> 112\u001b[0;31m         \u001b[0mactions_pred\u001b[0m \u001b[0;34m=\u001b[0m \u001b[0mself\u001b[0m\u001b[0;34m.\u001b[0m\u001b[0mactor_local\u001b[0m\u001b[0;34m(\u001b[0m\u001b[0mstates\u001b[0m\u001b[0;34m)\u001b[0m\u001b[0;34m\u001b[0m\u001b[0m\n\u001b[0m\u001b[1;32m    113\u001b[0m         \u001b[0mactor_loss\u001b[0m \u001b[0;34m=\u001b[0m \u001b[0;34m-\u001b[0m\u001b[0mself\u001b[0m\u001b[0;34m.\u001b[0m\u001b[0mcritic_local\u001b[0m\u001b[0;34m(\u001b[0m\u001b[0mstates\u001b[0m\u001b[0;34m,\u001b[0m \u001b[0mactions_pred\u001b[0m\u001b[0;34m)\u001b[0m\u001b[0;34m.\u001b[0m\u001b[0mmean\u001b[0m\u001b[0;34m(\u001b[0m\u001b[0;34m)\u001b[0m\u001b[0;34m\u001b[0m\u001b[0m\n\u001b[1;32m    114\u001b[0m         \u001b[0;31m# Minimize the loss\u001b[0m\u001b[0;34m\u001b[0m\u001b[0;34m\u001b[0m\u001b[0m\n",
      "\u001b[0;32m/opt/conda/lib/python3.6/site-packages/torch/nn/modules/module.py\u001b[0m in \u001b[0;36m__call__\u001b[0;34m(self, *input, **kwargs)\u001b[0m\n\u001b[1;32m    489\u001b[0m             \u001b[0mresult\u001b[0m \u001b[0;34m=\u001b[0m \u001b[0mself\u001b[0m\u001b[0;34m.\u001b[0m\u001b[0m_slow_forward\u001b[0m\u001b[0;34m(\u001b[0m\u001b[0;34m*\u001b[0m\u001b[0minput\u001b[0m\u001b[0;34m,\u001b[0m \u001b[0;34m**\u001b[0m\u001b[0mkwargs\u001b[0m\u001b[0;34m)\u001b[0m\u001b[0;34m\u001b[0m\u001b[0m\n\u001b[1;32m    490\u001b[0m         \u001b[0;32melse\u001b[0m\u001b[0;34m:\u001b[0m\u001b[0;34m\u001b[0m\u001b[0m\n\u001b[0;32m--> 491\u001b[0;31m             \u001b[0mresult\u001b[0m \u001b[0;34m=\u001b[0m \u001b[0mself\u001b[0m\u001b[0;34m.\u001b[0m\u001b[0mforward\u001b[0m\u001b[0;34m(\u001b[0m\u001b[0;34m*\u001b[0m\u001b[0minput\u001b[0m\u001b[0;34m,\u001b[0m \u001b[0;34m**\u001b[0m\u001b[0mkwargs\u001b[0m\u001b[0;34m)\u001b[0m\u001b[0;34m\u001b[0m\u001b[0m\n\u001b[0m\u001b[1;32m    492\u001b[0m         \u001b[0;32mfor\u001b[0m \u001b[0mhook\u001b[0m \u001b[0;32min\u001b[0m \u001b[0mself\u001b[0m\u001b[0;34m.\u001b[0m\u001b[0m_forward_hooks\u001b[0m\u001b[0;34m.\u001b[0m\u001b[0mvalues\u001b[0m\u001b[0;34m(\u001b[0m\u001b[0;34m)\u001b[0m\u001b[0;34m:\u001b[0m\u001b[0;34m\u001b[0m\u001b[0m\n\u001b[1;32m    493\u001b[0m             \u001b[0mhook_result\u001b[0m \u001b[0;34m=\u001b[0m \u001b[0mhook\u001b[0m\u001b[0;34m(\u001b[0m\u001b[0mself\u001b[0m\u001b[0;34m,\u001b[0m \u001b[0minput\u001b[0m\u001b[0;34m,\u001b[0m \u001b[0mresult\u001b[0m\u001b[0;34m)\u001b[0m\u001b[0;34m\u001b[0m\u001b[0m\n",
      "\u001b[0;32m/home/workspace/model.py\u001b[0m in \u001b[0;36mforward\u001b[0;34m(self, state)\u001b[0m\n\u001b[1;32m     39\u001b[0m         \u001b[0;34m\"\"\"Build an actor (policy) network that maps states -> actions.\"\"\"\u001b[0m\u001b[0;34m\u001b[0m\u001b[0m\n\u001b[1;32m     40\u001b[0m         \u001b[0mx\u001b[0m \u001b[0;34m=\u001b[0m \u001b[0mF\u001b[0m\u001b[0;34m.\u001b[0m\u001b[0mrelu\u001b[0m\u001b[0;34m(\u001b[0m\u001b[0mself\u001b[0m\u001b[0;34m.\u001b[0m\u001b[0mbn1\u001b[0m\u001b[0;34m(\u001b[0m\u001b[0mself\u001b[0m\u001b[0;34m.\u001b[0m\u001b[0mfc1\u001b[0m\u001b[0;34m(\u001b[0m\u001b[0mstate\u001b[0m\u001b[0;34m)\u001b[0m\u001b[0;34m)\u001b[0m\u001b[0;34m)\u001b[0m\u001b[0;34m\u001b[0m\u001b[0m\n\u001b[0;32m---> 41\u001b[0;31m         \u001b[0mx\u001b[0m \u001b[0;34m=\u001b[0m \u001b[0mF\u001b[0m\u001b[0;34m.\u001b[0m\u001b[0mrelu\u001b[0m\u001b[0;34m(\u001b[0m\u001b[0mself\u001b[0m\u001b[0;34m.\u001b[0m\u001b[0mfc2\u001b[0m\u001b[0;34m(\u001b[0m\u001b[0mx\u001b[0m\u001b[0;34m)\u001b[0m\u001b[0;34m)\u001b[0m\u001b[0;34m\u001b[0m\u001b[0m\n\u001b[0m\u001b[1;32m     42\u001b[0m         \u001b[0;32mreturn\u001b[0m \u001b[0mF\u001b[0m\u001b[0;34m.\u001b[0m\u001b[0mtanh\u001b[0m\u001b[0;34m(\u001b[0m\u001b[0mself\u001b[0m\u001b[0;34m.\u001b[0m\u001b[0mfc3\u001b[0m\u001b[0;34m(\u001b[0m\u001b[0mx\u001b[0m\u001b[0;34m)\u001b[0m\u001b[0;34m)\u001b[0m\u001b[0;34m\u001b[0m\u001b[0m\n\u001b[1;32m     43\u001b[0m \u001b[0;34m\u001b[0m\u001b[0m\n",
      "\u001b[0;32m/opt/conda/lib/python3.6/site-packages/torch/nn/modules/module.py\u001b[0m in \u001b[0;36m__call__\u001b[0;34m(self, *input, **kwargs)\u001b[0m\n\u001b[1;32m    489\u001b[0m             \u001b[0mresult\u001b[0m \u001b[0;34m=\u001b[0m \u001b[0mself\u001b[0m\u001b[0;34m.\u001b[0m\u001b[0m_slow_forward\u001b[0m\u001b[0;34m(\u001b[0m\u001b[0;34m*\u001b[0m\u001b[0minput\u001b[0m\u001b[0;34m,\u001b[0m \u001b[0;34m**\u001b[0m\u001b[0mkwargs\u001b[0m\u001b[0;34m)\u001b[0m\u001b[0;34m\u001b[0m\u001b[0m\n\u001b[1;32m    490\u001b[0m         \u001b[0;32melse\u001b[0m\u001b[0;34m:\u001b[0m\u001b[0;34m\u001b[0m\u001b[0m\n\u001b[0;32m--> 491\u001b[0;31m             \u001b[0mresult\u001b[0m \u001b[0;34m=\u001b[0m \u001b[0mself\u001b[0m\u001b[0;34m.\u001b[0m\u001b[0mforward\u001b[0m\u001b[0;34m(\u001b[0m\u001b[0;34m*\u001b[0m\u001b[0minput\u001b[0m\u001b[0;34m,\u001b[0m \u001b[0;34m**\u001b[0m\u001b[0mkwargs\u001b[0m\u001b[0;34m)\u001b[0m\u001b[0;34m\u001b[0m\u001b[0m\n\u001b[0m\u001b[1;32m    492\u001b[0m         \u001b[0;32mfor\u001b[0m \u001b[0mhook\u001b[0m \u001b[0;32min\u001b[0m \u001b[0mself\u001b[0m\u001b[0;34m.\u001b[0m\u001b[0m_forward_hooks\u001b[0m\u001b[0;34m.\u001b[0m\u001b[0mvalues\u001b[0m\u001b[0;34m(\u001b[0m\u001b[0;34m)\u001b[0m\u001b[0;34m:\u001b[0m\u001b[0;34m\u001b[0m\u001b[0m\n\u001b[1;32m    493\u001b[0m             \u001b[0mhook_result\u001b[0m \u001b[0;34m=\u001b[0m \u001b[0mhook\u001b[0m\u001b[0;34m(\u001b[0m\u001b[0mself\u001b[0m\u001b[0;34m,\u001b[0m \u001b[0minput\u001b[0m\u001b[0;34m,\u001b[0m \u001b[0mresult\u001b[0m\u001b[0;34m)\u001b[0m\u001b[0;34m\u001b[0m\u001b[0m\n",
      "\u001b[0;32m/opt/conda/lib/python3.6/site-packages/torch/nn/modules/linear.py\u001b[0m in \u001b[0;36mforward\u001b[0;34m(self, input)\u001b[0m\n\u001b[1;32m     53\u001b[0m \u001b[0;34m\u001b[0m\u001b[0m\n\u001b[1;32m     54\u001b[0m     \u001b[0;32mdef\u001b[0m \u001b[0mforward\u001b[0m\u001b[0;34m(\u001b[0m\u001b[0mself\u001b[0m\u001b[0;34m,\u001b[0m \u001b[0minput\u001b[0m\u001b[0;34m)\u001b[0m\u001b[0;34m:\u001b[0m\u001b[0;34m\u001b[0m\u001b[0m\n\u001b[0;32m---> 55\u001b[0;31m         \u001b[0;32mreturn\u001b[0m \u001b[0mF\u001b[0m\u001b[0;34m.\u001b[0m\u001b[0mlinear\u001b[0m\u001b[0;34m(\u001b[0m\u001b[0minput\u001b[0m\u001b[0;34m,\u001b[0m \u001b[0mself\u001b[0m\u001b[0;34m.\u001b[0m\u001b[0mweight\u001b[0m\u001b[0;34m,\u001b[0m \u001b[0mself\u001b[0m\u001b[0;34m.\u001b[0m\u001b[0mbias\u001b[0m\u001b[0;34m)\u001b[0m\u001b[0;34m\u001b[0m\u001b[0m\n\u001b[0m\u001b[1;32m     56\u001b[0m \u001b[0;34m\u001b[0m\u001b[0m\n\u001b[1;32m     57\u001b[0m     \u001b[0;32mdef\u001b[0m \u001b[0mextra_repr\u001b[0m\u001b[0;34m(\u001b[0m\u001b[0mself\u001b[0m\u001b[0;34m)\u001b[0m\u001b[0;34m:\u001b[0m\u001b[0;34m\u001b[0m\u001b[0m\n",
      "\u001b[0;32m/opt/conda/lib/python3.6/site-packages/torch/nn/functional.py\u001b[0m in \u001b[0;36mlinear\u001b[0;34m(input, weight, bias)\u001b[0m\n\u001b[1;32m    990\u001b[0m     \u001b[0;32mif\u001b[0m \u001b[0minput\u001b[0m\u001b[0;34m.\u001b[0m\u001b[0mdim\u001b[0m\u001b[0;34m(\u001b[0m\u001b[0;34m)\u001b[0m \u001b[0;34m==\u001b[0m \u001b[0;36m2\u001b[0m \u001b[0;32mand\u001b[0m \u001b[0mbias\u001b[0m \u001b[0;32mis\u001b[0m \u001b[0;32mnot\u001b[0m \u001b[0;32mNone\u001b[0m\u001b[0;34m:\u001b[0m\u001b[0;34m\u001b[0m\u001b[0m\n\u001b[1;32m    991\u001b[0m         \u001b[0;31m# fused op is marginally faster\u001b[0m\u001b[0;34m\u001b[0m\u001b[0;34m\u001b[0m\u001b[0m\n\u001b[0;32m--> 992\u001b[0;31m         \u001b[0;32mreturn\u001b[0m \u001b[0mtorch\u001b[0m\u001b[0;34m.\u001b[0m\u001b[0maddmm\u001b[0m\u001b[0;34m(\u001b[0m\u001b[0mbias\u001b[0m\u001b[0;34m,\u001b[0m \u001b[0minput\u001b[0m\u001b[0;34m,\u001b[0m \u001b[0mweight\u001b[0m\u001b[0;34m.\u001b[0m\u001b[0mt\u001b[0m\u001b[0;34m(\u001b[0m\u001b[0;34m)\u001b[0m\u001b[0;34m)\u001b[0m\u001b[0;34m\u001b[0m\u001b[0m\n\u001b[0m\u001b[1;32m    993\u001b[0m \u001b[0;34m\u001b[0m\u001b[0m\n\u001b[1;32m    994\u001b[0m     \u001b[0moutput\u001b[0m \u001b[0;34m=\u001b[0m \u001b[0minput\u001b[0m\u001b[0;34m.\u001b[0m\u001b[0mmatmul\u001b[0m\u001b[0;34m(\u001b[0m\u001b[0mweight\u001b[0m\u001b[0;34m.\u001b[0m\u001b[0mt\u001b[0m\u001b[0;34m(\u001b[0m\u001b[0;34m)\u001b[0m\u001b[0;34m)\u001b[0m\u001b[0;34m\u001b[0m\u001b[0m\n",
      "\u001b[0;31mKeyboardInterrupt\u001b[0m: "
     ]
    }
   ],
   "source": [
    "# run the training loop\n",
    "agent = Agent(state_size=state_size, action_size=action_size, random_seed=1)\n",
    "scores, avgs = ddpg()\n",
    "\n",
    "# plot the scores\n",
    "fig = plt.figure()\n",
    "ax = fig.add_subplot(111)\n",
    "plt.plot(np.arange(len(scores)), scores, label='DDPG')\n",
    "plt.plot(np.arange(len(scores)), avgs, c='r', label='average')\n",
    "plt.ylabel('Score')\n",
    "plt.xlabel('Episode #')\n",
    "plt.legend(loc='upper left');\n",
    "plt.show()"
   ]
  },
  {
   "cell_type": "code",
   "execution_count": null,
   "metadata": {},
   "outputs": [],
   "source": []
  },
  {
   "cell_type": "code",
   "execution_count": null,
   "metadata": {
    "collapsed": true
   },
   "outputs": [],
   "source": []
  },
  {
   "cell_type": "markdown",
   "metadata": {},
   "source": [
    "When finished, you can close the environment."
   ]
  },
  {
   "cell_type": "code",
   "execution_count": null,
   "metadata": {
    "collapsed": true
   },
   "outputs": [],
   "source": [
    "env.close()"
   ]
  }
 ],
 "metadata": {
  "anaconda-cloud": {},
  "kernelspec": {
   "display_name": "Python 3",
   "language": "python",
   "name": "python3"
  },
  "language_info": {
   "codemirror_mode": {
    "name": "ipython",
    "version": 3
   },
   "file_extension": ".py",
   "mimetype": "text/x-python",
   "name": "python",
   "nbconvert_exporter": "python",
   "pygments_lexer": "ipython3",
   "version": "3.6.3"
  }
 },
 "nbformat": 4,
 "nbformat_minor": 2
}
